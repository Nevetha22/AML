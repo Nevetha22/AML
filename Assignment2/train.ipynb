{
 "cells": [
  {
   "cell_type": "markdown",
   "id": "3f7387a3",
   "metadata": {},
   "source": [
    "#### Nevetha N G\n",
    "#### MDS202128"
   ]
  },
  {
   "cell_type": "code",
   "execution_count": 1,
   "id": "e57023c6",
   "metadata": {},
   "outputs": [],
   "source": [
    "import nltk\n",
    "import mlflow\n",
    "from textblob import TextBlob\n",
    "import sklearn\n",
    "import numpy as np\n",
    "import pandas as pd\n",
    "import sklearn.metrics as met\n",
    "from sklearn.svm import SVC\n",
    "from sklearn.metrics import roc_auc_score, auc\n",
    "from sklearn.naive_bayes import MultinomialNB\n",
    "from sklearn.ensemble import RandomForestClassifier\n",
    "from sklearn.feature_extraction.text import TfidfVectorizer\n",
    "from sklearn.feature_extraction.text import CountVectorizer, TfidfTransformer\n",
    "from sklearn.metrics import classification_report, f1_score, accuracy_score, confusion_matrix, average_precision_score, precision_recall_curve"
   ]
  },
  {
   "cell_type": "code",
   "execution_count": 2,
   "id": "18e1d887",
   "metadata": {},
   "outputs": [],
   "source": [
    "#flie paths\n",
    "train_file_path = \"C:/Users/Nevetha/AML/Assignment_02/data/training_data.csv\"\n",
    "valid_file_path = \"C:/Users/Nevetha/AML/Assignment_02/data/valid_data.csv\"\n",
    "test_file_path = \"C:/Users/Nevetha/AML/Assignment_02/data/test_data.csv\"\n",
    "data_train = pd.read_csv(train_file_path)\n",
    "data_valid = pd.read_csv(valid_file_path)\n",
    "data_test = pd.read_csv(test_file_path)"
   ]
  },
  {
   "cell_type": "code",
   "execution_count": 3,
   "id": "2a6af4d3",
   "metadata": {},
   "outputs": [
    {
     "data": {
      "text/html": [
       "<div>\n",
       "<style scoped>\n",
       "    .dataframe tbody tr th:only-of-type {\n",
       "        vertical-align: middle;\n",
       "    }\n",
       "\n",
       "    .dataframe tbody tr th {\n",
       "        vertical-align: top;\n",
       "    }\n",
       "\n",
       "    .dataframe thead th {\n",
       "        text-align: right;\n",
       "    }\n",
       "</style>\n",
       "<table border=\"1\" class=\"dataframe\">\n",
       "  <thead>\n",
       "    <tr style=\"text-align: right;\">\n",
       "      <th></th>\n",
       "      <th>X_train</th>\n",
       "      <th>y_train</th>\n",
       "      <th>length</th>\n",
       "    </tr>\n",
       "  </thead>\n",
       "  <tbody>\n",
       "    <tr>\n",
       "      <th>0</th>\n",
       "      <td>K.k:)apo k.good movie.</td>\n",
       "      <td>0</td>\n",
       "      <td>22</td>\n",
       "    </tr>\n",
       "    <tr>\n",
       "      <th>1</th>\n",
       "      <td>Hey ! Don't forget ... You are MINE ... For ME...</td>\n",
       "      <td>0</td>\n",
       "      <td>113</td>\n",
       "    </tr>\n",
       "    <tr>\n",
       "      <th>2</th>\n",
       "      <td>Haha... Hope ü can hear the receipt sound... G...</td>\n",
       "      <td>0</td>\n",
       "      <td>53</td>\n",
       "    </tr>\n",
       "    <tr>\n",
       "      <th>3</th>\n",
       "      <td>Great. Never been better. Each day gives even ...</td>\n",
       "      <td>0</td>\n",
       "      <td>71</td>\n",
       "    </tr>\n",
       "    <tr>\n",
       "      <th>4</th>\n",
       "      <td>Dear Subscriber ur draw 4 £100 gift voucher wi...</td>\n",
       "      <td>1</td>\n",
       "      <td>141</td>\n",
       "    </tr>\n",
       "  </tbody>\n",
       "</table>\n",
       "</div>"
      ],
      "text/plain": [
       "                                             X_train  y_train  length\n",
       "0                             K.k:)apo k.good movie.        0      22\n",
       "1  Hey ! Don't forget ... You are MINE ... For ME...        0     113\n",
       "2  Haha... Hope ü can hear the receipt sound... G...        0      53\n",
       "3  Great. Never been better. Each day gives even ...        0      71\n",
       "4  Dear Subscriber ur draw 4 £100 gift voucher wi...        1     141"
      ]
     },
     "execution_count": 3,
     "metadata": {},
     "output_type": "execute_result"
    }
   ],
   "source": [
    "data_train.head()"
   ]
  },
  {
   "cell_type": "code",
   "execution_count": 4,
   "id": "58770bd1",
   "metadata": {},
   "outputs": [],
   "source": [
    "X_train = data_train[\"X_train\"]\n",
    "y_train = data_train[\"y_train\"]"
   ]
  },
  {
   "cell_type": "code",
   "execution_count": 5,
   "id": "7edb991d",
   "metadata": {},
   "outputs": [],
   "source": [
    "X_test = data_test[\"X_test\"]\n",
    "y_test = data_test[\"y_test\"]"
   ]
  },
  {
   "cell_type": "code",
   "execution_count": 6,
   "id": "db412aef",
   "metadata": {},
   "outputs": [],
   "source": [
    "X_valid = data_valid[\"X_valid\"]\n",
    "y_valid = data_valid[\"y_valid\"]"
   ]
  },
  {
   "cell_type": "code",
   "execution_count": 7,
   "id": "352c148e",
   "metadata": {},
   "outputs": [],
   "source": [
    "def split_msgs(text):\n",
    "    text = str(text).lower()\n",
    "    words = TextBlob(text).words\n",
    "    return [word.lemma for word in words]"
   ]
  },
  {
   "cell_type": "code",
   "execution_count": 8,
   "id": "ce4c9819",
   "metadata": {},
   "outputs": [],
   "source": [
    "#fitting and transforming X_train using a Count Vectorizer with default parameters\n",
    "vect = CountVectorizer().fit(X_train)\n",
    "X_train_vectorized = vect.transform(X_train)"
   ]
  },
  {
   "cell_type": "markdown",
   "id": "78476e17",
   "metadata": {},
   "source": [
    "### 1) Multinomial Naive Bayes Classifier Model"
   ]
  },
  {
   "cell_type": "code",
   "execution_count": 9,
   "id": "d4ecd7e3",
   "metadata": {},
   "outputs": [],
   "source": [
    "Exp_name = \"mlflow-bayes1\"\n",
    "Exp_Id = mlflow.create_experiment(Exp_name)"
   ]
  },
  {
   "cell_type": "code",
   "execution_count": 10,
   "id": "7148ade5",
   "metadata": {},
   "outputs": [
    {
     "name": "stderr",
     "output_type": "stream",
     "text": [
      "C:\\Users\\Nevetha\\anaconda3\\lib\\site-packages\\_distutils_hack\\__init__.py:33: UserWarning: Setuptools is replacing distutils.\n",
      "  warnings.warn(\"Setuptools is replacing distutils.\")\n"
     ]
    }
   ],
   "source": [
    "for idx, depth in enumerate([0.01,0.05,0.1,0.5,1]):\n",
    "\n",
    "    model1 = sklearn.naive_bayes.MultinomialNB(alpha=depth)\n",
    "    model_fit_NB = model1.fit(X_train_vectorized, y_train)\n",
    "    predictions_NB = model1.predict(vect.transform(X_test))\n",
    "\n",
    "    report_NB = classification_report(y_valid, predictions_NB)\n",
    "    accuracy1 = accuracy_score(y_valid, predictions_NB)\n",
    "    precision1, recall1, thresholds1 = precision_recall_curve(y_valid, predictions_NB)\n",
    "    auc_precision_recall1 = auc(recall1, precision1)\n",
    "\n",
    "    # Start MLflow\n",
    "    RUN_NAME_1 = f\"run_{idx}\"\n",
    "    with mlflow.start_run(experiment_id=Exp_Id, run_name=RUN_NAME_1) as run:\n",
    "        # Retrieve run id\n",
    "        RUN_ID = run.info.run_id\n",
    "\n",
    "        # Track parameters\n",
    "        mlflow.log_param(\"depth\", depth)\n",
    "\n",
    "        # Track metrics\n",
    "        mlflow.log_metric(\"accuracy\", accuracy1)\n",
    "        mlflow.log_metric(\"AUCPR\", auc_precision_recall1)\n",
    "\n",
    "        # Track model\n",
    "        mlflow.sklearn.log_model(model_fit_NB, \"classifier\")"
   ]
  },
  {
   "cell_type": "code",
   "execution_count": 11,
   "id": "144b62eb",
   "metadata": {},
   "outputs": [],
   "source": [
    "from mlflow.tracking import MlflowClient"
   ]
  },
  {
   "cell_type": "code",
   "execution_count": 12,
   "id": "5a61e5cb",
   "metadata": {},
   "outputs": [],
   "source": [
    "def print_run_info(runs):\n",
    "    for run in runs:\n",
    "        print(\"run_id: {}\".format(run.info.run_id))\n",
    "        print(\"lifecycle_stage: {}\".format(run.data.params))\n",
    "        print(\"metrics: {}\".format(run.data.metrics))\n",
    "\n",
    "        # Exclude mlflow system tags\n",
    "        tags = {k: v for k, v in run.data.tags.items() if not k.startswith(\"mlflow.\")}\n",
    "        print(\"tags: {}\".format(tags))"
   ]
  },
  {
   "cell_type": "code",
   "execution_count": 13,
   "id": "577adaf8",
   "metadata": {
    "scrolled": true
   },
   "outputs": [
    {
     "name": "stdout",
     "output_type": "stream",
     "text": [
      "run_id: d512fe3128084cd79595bd36cebec078\n",
      "lifecycle_stage: {'depth': '1'}\n",
      "metrics: {'accuracy': 0.7954545454545454, 'AUCPR': 0.22365571959380645}\n",
      "tags: {}\n",
      "run_id: cb2fda5eca9741088bc58027a58598ec\n",
      "lifecycle_stage: {'depth': '0.5'}\n",
      "metrics: {'accuracy': 0.7918660287081339, 'AUCPR': 0.2286880537271366}\n",
      "tags: {}\n",
      "run_id: c3d28d8937f84eb7b9cd3be6e8ce866e\n",
      "lifecycle_stage: {'depth': '0.1'}\n",
      "metrics: {'accuracy': 0.7906698564593302, 'AUCPR': 0.22792389671297958}\n",
      "tags: {}\n",
      "run_id: fd498eca3c044cc28fa1a72d559e1c60\n",
      "lifecycle_stage: {'depth': '0.05'}\n",
      "metrics: {'accuracy': 0.7894736842105263, 'AUCPR': 0.21983114029752904}\n",
      "tags: {}\n",
      "run_id: ff661f5671ca4835913a105c07c02bf4\n",
      "lifecycle_stage: {'depth': '0.01'}\n",
      "metrics: {'accuracy': 0.7882775119617225, 'AUCPR': 0.21910720207359086}\n",
      "tags: {}\n",
      "_end_\n"
     ]
    }
   ],
   "source": [
    "client_NB = MlflowClient()\n",
    "runs_NB = client_NB.search_runs(Exp_Id, order_by=[\"metrics.m DESC\"])\n",
    "print_run_info(runs_NB)\n",
    "print(\"_end_\")"
   ]
  },
  {
   "cell_type": "markdown",
   "id": "3ef32eec",
   "metadata": {},
   "source": [
    "### 2) Random Forest Classifier Model"
   ]
  },
  {
   "cell_type": "code",
   "execution_count": 14,
   "id": "21f559ae",
   "metadata": {},
   "outputs": [],
   "source": [
    "Exp_name2 = \"mlflow-RF1\"\n",
    "Exp_Id2 = mlflow.create_experiment(Exp_name2)"
   ]
  },
  {
   "cell_type": "code",
   "execution_count": 15,
   "id": "e884e962",
   "metadata": {},
   "outputs": [
    {
     "name": "stderr",
     "output_type": "stream",
     "text": [
      "C:\\Users\\Nevetha\\anaconda3\\lib\\site-packages\\sklearn\\metrics\\_classification.py:1318: UndefinedMetricWarning: Precision and F-score are ill-defined and being set to 0.0 in labels with no predicted samples. Use `zero_division` parameter to control this behavior.\n",
      "  _warn_prf(average, modifier, msg_start, len(result))\n",
      "C:\\Users\\Nevetha\\anaconda3\\lib\\site-packages\\sklearn\\metrics\\_classification.py:1318: UndefinedMetricWarning: Precision and F-score are ill-defined and being set to 0.0 in labels with no predicted samples. Use `zero_division` parameter to control this behavior.\n",
      "  _warn_prf(average, modifier, msg_start, len(result))\n",
      "C:\\Users\\Nevetha\\anaconda3\\lib\\site-packages\\sklearn\\metrics\\_classification.py:1318: UndefinedMetricWarning: Precision and F-score are ill-defined and being set to 0.0 in labels with no predicted samples. Use `zero_division` parameter to control this behavior.\n",
      "  _warn_prf(average, modifier, msg_start, len(result))\n",
      "C:\\Users\\Nevetha\\anaconda3\\lib\\site-packages\\sklearn\\metrics\\_classification.py:1318: UndefinedMetricWarning: Precision and F-score are ill-defined and being set to 0.0 in labels with no predicted samples. Use `zero_division` parameter to control this behavior.\n",
      "  _warn_prf(average, modifier, msg_start, len(result))\n",
      "C:\\Users\\Nevetha\\anaconda3\\lib\\site-packages\\sklearn\\metrics\\_classification.py:1318: UndefinedMetricWarning: Precision and F-score are ill-defined and being set to 0.0 in labels with no predicted samples. Use `zero_division` parameter to control this behavior.\n",
      "  _warn_prf(average, modifier, msg_start, len(result))\n",
      "C:\\Users\\Nevetha\\anaconda3\\lib\\site-packages\\sklearn\\metrics\\_classification.py:1318: UndefinedMetricWarning: Precision and F-score are ill-defined and being set to 0.0 in labels with no predicted samples. Use `zero_division` parameter to control this behavior.\n",
      "  _warn_prf(average, modifier, msg_start, len(result))\n"
     ]
    }
   ],
   "source": [
    "for idx, depth in enumerate([1,3,7,10,20]):\n",
    "    \n",
    "    model2 = RandomForestClassifier(random_state = 1,  n_estimators = 200,\n",
    "                                    max_depth = depth, criterion = 'gini')\n",
    "    model_fit_RF = model2.fit(X_train_vectorized, y_train)\n",
    "    predictions_RF = model2.predict(vect.transform(X_test))\n",
    "\n",
    "\n",
    "    report_RF = classification_report(y_valid, predictions_RF)\n",
    "    accuracy2 = accuracy_score(y_valid, predictions_RF)\n",
    "    precision2, recall2, thresholds2 = precision_recall_curve(y_valid, predictions_RF)\n",
    "    auc_precision_recall2 = auc(recall2, precision2)\n",
    "\n",
    "    # Start MLflow\n",
    "    RUN_NAME_1 = f\"run_{idx}\"\n",
    "    with mlflow.start_run(experiment_id=Exp_Id2, run_name=RUN_NAME_1) as run:\n",
    "        # Retrieve run id\n",
    "        RUN_ID = run.info.run_id\n",
    "\n",
    "        # Track parameters\n",
    "        mlflow.log_param(\"depth\", depth)\n",
    "\n",
    "        # Track metrics\n",
    "        mlflow.log_metric(\"accuracy\", accuracy2)\n",
    "        mlflow.log_metric(\"AUCPR\", auc_precision_recall2)\n",
    "\n",
    "        # Track model\n",
    "        mlflow.sklearn.log_model(model_fit_RF, \"classifier\")"
   ]
  },
  {
   "cell_type": "code",
   "execution_count": 16,
   "id": "4396df72",
   "metadata": {},
   "outputs": [
    {
     "name": "stdout",
     "output_type": "stream",
     "text": [
      "run_id: cff46547feea496994253d091fe2765a\n",
      "lifecycle_stage: {'depth': '20'}\n",
      "metrics: {'accuracy': 0.8217703349282297, 'AUCPR': 0.17746019958032955}\n",
      "tags: {}\n",
      "run_id: e9e319ab114541bfb7cc4332bdd0a853\n",
      "lifecycle_stage: {'depth': '10'}\n",
      "metrics: {'accuracy': 0.8588516746411483, 'AUCPR': 0.17476133578270106}\n",
      "tags: {}\n",
      "run_id: 78ea40c4654d4e839d1f0f48f15b9888\n",
      "lifecycle_stage: {'depth': '7'}\n",
      "metrics: {'accuracy': 0.8660287081339713, 'AUCPR': 0.060406698564593304}\n",
      "tags: {}\n",
      "run_id: 32c9f087fd8446668d15d8aa9fd7ac94\n",
      "lifecycle_stage: {'depth': '3'}\n",
      "metrics: {'accuracy': 0.8791866028708134, 'AUCPR': 0.5604066985645934}\n",
      "tags: {}\n",
      "run_id: 6fb10062809545c7849e05a0630f5395\n",
      "lifecycle_stage: {'depth': '1'}\n",
      "metrics: {'accuracy': 0.8791866028708134, 'AUCPR': 0.5604066985645934}\n",
      "tags: {}\n",
      "_end_\n"
     ]
    }
   ],
   "source": [
    "client_RF = MlflowClient()\n",
    "runs_RF = client_RF.search_runs(Exp_Id2, order_by=[\"metrics.m DESC\"])\n",
    "print_run_info(runs_RF)\n",
    "print(\"_end_\")"
   ]
  },
  {
   "cell_type": "markdown",
   "id": "538bfbb0",
   "metadata": {},
   "source": [
    "### 3) Support Vector Classifier Model"
   ]
  },
  {
   "cell_type": "code",
   "execution_count": 17,
   "id": "175589c6",
   "metadata": {},
   "outputs": [],
   "source": [
    "Exp_name3 = \"mlflow-SVM1\"\n",
    "Exp_Id3 = mlflow.create_experiment(Exp_name3)"
   ]
  },
  {
   "cell_type": "code",
   "execution_count": 18,
   "id": "17478129",
   "metadata": {},
   "outputs": [
    {
     "name": "stderr",
     "output_type": "stream",
     "text": [
      "C:\\Users\\Nevetha\\anaconda3\\lib\\site-packages\\sklearn\\metrics\\_classification.py:1318: UndefinedMetricWarning: Precision and F-score are ill-defined and being set to 0.0 in labels with no predicted samples. Use `zero_division` parameter to control this behavior.\n",
      "  _warn_prf(average, modifier, msg_start, len(result))\n",
      "C:\\Users\\Nevetha\\anaconda3\\lib\\site-packages\\sklearn\\metrics\\_classification.py:1318: UndefinedMetricWarning: Precision and F-score are ill-defined and being set to 0.0 in labels with no predicted samples. Use `zero_division` parameter to control this behavior.\n",
      "  _warn_prf(average, modifier, msg_start, len(result))\n",
      "C:\\Users\\Nevetha\\anaconda3\\lib\\site-packages\\sklearn\\metrics\\_classification.py:1318: UndefinedMetricWarning: Precision and F-score are ill-defined and being set to 0.0 in labels with no predicted samples. Use `zero_division` parameter to control this behavior.\n",
      "  _warn_prf(average, modifier, msg_start, len(result))\n",
      "C:\\Users\\Nevetha\\anaconda3\\lib\\site-packages\\sklearn\\metrics\\_classification.py:1318: UndefinedMetricWarning: Precision and F-score are ill-defined and being set to 0.0 in labels with no predicted samples. Use `zero_division` parameter to control this behavior.\n",
      "  _warn_prf(average, modifier, msg_start, len(result))\n",
      "C:\\Users\\Nevetha\\anaconda3\\lib\\site-packages\\sklearn\\metrics\\_classification.py:1318: UndefinedMetricWarning: Precision and F-score are ill-defined and being set to 0.0 in labels with no predicted samples. Use `zero_division` parameter to control this behavior.\n",
      "  _warn_prf(average, modifier, msg_start, len(result))\n",
      "C:\\Users\\Nevetha\\anaconda3\\lib\\site-packages\\sklearn\\metrics\\_classification.py:1318: UndefinedMetricWarning: Precision and F-score are ill-defined and being set to 0.0 in labels with no predicted samples. Use `zero_division` parameter to control this behavior.\n",
      "  _warn_prf(average, modifier, msg_start, len(result))\n"
     ]
    }
   ],
   "source": [
    "for idx, depth in enumerate([0.001,0.01,0.1,1,10]):\n",
    "\n",
    "    clf = SVC(C=depth)\n",
    "    model_fit_SVM = clf.fit(X_train_vectorized, y_train)\n",
    "    predictions_SVM = clf.predict(vect.transform(X_test))\n",
    "\n",
    "    report_SVM = classification_report(y_valid, predictions_SVM)\n",
    "    accuracy3 = accuracy_score(y_valid, predictions_SVM)\n",
    "    precision3, recall3, thresholds3 = precision_recall_curve(y_valid, predictions_SVM)\n",
    "    auc_precision_recall3 = auc(recall3, precision3)\n",
    "\n",
    "    # Start MLflow\n",
    "    RUN_NAME_1 = f\"run_{idx}\"\n",
    "    with mlflow.start_run(experiment_id=Exp_Id3, run_name=RUN_NAME_1) as run:\n",
    "        # Retrieve run id\n",
    "        RUN_ID = run.info.run_id\n",
    "\n",
    "        # Track parameters\n",
    "        mlflow.log_param(\"depth\", depth)\n",
    "\n",
    "        # Track metrics\n",
    "        mlflow.log_metric(\"accuracy\", accuracy3)\n",
    "        mlflow.log_metric(\"AUCPR\", auc_precision_recall3)\n",
    "\n",
    "        # Track model\n",
    "        mlflow.sklearn.log_model(model_fit_SVM, \"classifier\")"
   ]
  },
  {
   "cell_type": "code",
   "execution_count": 19,
   "id": "936c62db",
   "metadata": {},
   "outputs": [
    {
     "name": "stdout",
     "output_type": "stream",
     "text": [
      "run_id: be81cfaf6be749eda2c9ecbfeb2480c5\n",
      "lifecycle_stage: {'depth': '10'}\n",
      "metrics: {'accuracy': 0.8050239234449761, 'AUCPR': 0.238102468141551}\n",
      "tags: {}\n",
      "run_id: c977309c4cd3490480aee5cf1c26cb77\n",
      "lifecycle_stage: {'depth': '1'}\n",
      "metrics: {'accuracy': 0.8014354066985646, 'AUCPR': 0.22785897010753706}\n",
      "tags: {}\n",
      "run_id: 7179321bb7b040ceb8d2621d07f849be\n",
      "lifecycle_stage: {'depth': '0.1'}\n",
      "metrics: {'accuracy': 0.8755980861244019, 'AUCPR': 0.060406698564593304}\n",
      "tags: {}\n",
      "run_id: 23984cfe1c7a4aa1a46343340ee53fdc\n",
      "lifecycle_stage: {'depth': '0.01'}\n",
      "metrics: {'accuracy': 0.8791866028708134, 'AUCPR': 0.5604066985645934}\n",
      "tags: {}\n",
      "run_id: 974d984f730d4f69a6d4f59f53fd5767\n",
      "lifecycle_stage: {'depth': '0.001'}\n",
      "metrics: {'accuracy': 0.8791866028708134, 'AUCPR': 0.5604066985645934}\n",
      "tags: {}\n",
      "_end_\n"
     ]
    }
   ],
   "source": [
    "client_SVM = MlflowClient()\n",
    "runs_SVM = client_SVM.search_runs(Exp_Id3, order_by=[\"metrics.m DESC\"])\n",
    "print_run_info(runs_SVM)\n",
    "print(\"_end_\")"
   ]
  }
 ],
 "metadata": {
  "@webio": {
   "lastCommId": null,
   "lastKernelId": null
  },
  "kernelspec": {
   "display_name": "Python 3 (ipykernel)",
   "language": "python",
   "name": "python3"
  },
  "language_info": {
   "codemirror_mode": {
    "name": "ipython",
    "version": 3
   },
   "file_extension": ".py",
   "mimetype": "text/x-python",
   "name": "python",
   "nbconvert_exporter": "python",
   "pygments_lexer": "ipython3",
   "version": "3.9.7"
  }
 },
 "nbformat": 4,
 "nbformat_minor": 5
}
