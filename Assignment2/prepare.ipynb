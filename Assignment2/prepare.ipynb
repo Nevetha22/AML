{
 "cells": [
  {
   "cell_type": "markdown",
   "id": "e6a8a491",
   "metadata": {},
   "source": [
    "#### Nevetha N G\n",
    "#### MDS202128"
   ]
  },
  {
   "cell_type": "code",
   "execution_count": 1,
   "id": "99e9b6f3",
   "metadata": {},
   "outputs": [],
   "source": [
    "%matplotlib inline\n",
    "import matplotlib.pyplot as plt\n",
    "import csv\n",
    "from textblob import TextBlob\n",
    "import pandas as pd\n",
    "import sklearn\n",
    "import pickle\n",
    "import numpy as np\n",
    "from sklearn.pipeline import Pipeline\n",
    "from sklearn.model_selection import RandomizedSearchCV\n",
    "from sklearn.model_selection import GridSearchCV\n",
    "from sklearn.model_selection import train_test_split, StratifiedKFold, cross_val_score\n",
    "from sklearn.model_selection import learning_curve "
   ]
  },
  {
   "cell_type": "code",
   "execution_count": 2,
   "id": "af2bd8a4",
   "metadata": {},
   "outputs": [],
   "source": [
    "data = pd.read_csv(\"C:/Users/Nevetha/AML/Assignment_02/data/data_p.csv\")\n",
    "data.set_index(\"Unnamed: 0\", inplace=True)"
   ]
  },
  {
   "cell_type": "code",
   "execution_count": 3,
   "id": "a58e89b6",
   "metadata": {},
   "outputs": [],
   "source": [
    "def split(df,train_size =0.7, valid_size=0.15, test_size=0.15, random_state=22):\n",
    "    df_train, df_ = train_test_split(df, train_size=train_size, random_state=random_state)\n",
    "    df_valid, df_test = train_test_split(df_, train_size=valid_size/(valid_size+test_size))\n",
    "    df_train.rename(columns = {'text':'X_train', 'target':'y_train'}, inplace = True)\n",
    "    df_valid.rename(columns = {'text':'X_valid', 'target':'y_valid'}, inplace = True)\n",
    "    df_test.rename(columns = {'text':'X_test', 'target':'y_test'}, inplace = True)\n",
    "    return df_train, df_valid, df_test\n",
    "data_train, data_valid, data_test = split(data, random_state=22)"
   ]
  },
  {
   "cell_type": "code",
   "execution_count": 4,
   "id": "d85bd2cd",
   "metadata": {},
   "outputs": [],
   "source": [
    "#file paths\n",
    "train_file_path = \"C:/Users/Nevetha/AML/Assignment_02/data/training_data.csv\"\n",
    "valid_file_path = \"C:/Users/Nevetha/AML/Assignment_02/data/valid_data.csv\"\n",
    "test_file_path = \"C:/Users/Nevetha/AML/Assignment_02/data/test_data.csv\"\n",
    "\n",
    "#Storing the data into csv files\n",
    "data_train.to_csv(train_file_path, index=False)\n",
    "data_valid.to_csv(valid_file_path, index=False)\n",
    "data_test.to_csv(test_file_path, index=False)"
   ]
  },
  {
   "cell_type": "code",
   "execution_count": 5,
   "id": "7adee85b",
   "metadata": {},
   "outputs": [
    {
     "data": {
      "text/html": [
       "<div>\n",
       "<style scoped>\n",
       "    .dataframe tbody tr th:only-of-type {\n",
       "        vertical-align: middle;\n",
       "    }\n",
       "\n",
       "    .dataframe tbody tr th {\n",
       "        vertical-align: top;\n",
       "    }\n",
       "\n",
       "    .dataframe thead th {\n",
       "        text-align: right;\n",
       "    }\n",
       "</style>\n",
       "<table border=\"1\" class=\"dataframe\">\n",
       "  <thead>\n",
       "    <tr style=\"text-align: right;\">\n",
       "      <th></th>\n",
       "      <th>X_train</th>\n",
       "      <th>y_train</th>\n",
       "      <th>length</th>\n",
       "    </tr>\n",
       "  </thead>\n",
       "  <tbody>\n",
       "    <tr>\n",
       "      <th>0</th>\n",
       "      <td>K.k:)apo k.good movie.</td>\n",
       "      <td>0</td>\n",
       "      <td>22</td>\n",
       "    </tr>\n",
       "    <tr>\n",
       "      <th>1</th>\n",
       "      <td>Hey ! Don't forget ... You are MINE ... For ME...</td>\n",
       "      <td>0</td>\n",
       "      <td>113</td>\n",
       "    </tr>\n",
       "    <tr>\n",
       "      <th>2</th>\n",
       "      <td>Haha... Hope ü can hear the receipt sound... G...</td>\n",
       "      <td>0</td>\n",
       "      <td>53</td>\n",
       "    </tr>\n",
       "    <tr>\n",
       "      <th>3</th>\n",
       "      <td>Great. Never been better. Each day gives even ...</td>\n",
       "      <td>0</td>\n",
       "      <td>71</td>\n",
       "    </tr>\n",
       "    <tr>\n",
       "      <th>4</th>\n",
       "      <td>Dear Subscriber ur draw 4 £100 gift voucher wi...</td>\n",
       "      <td>1</td>\n",
       "      <td>141</td>\n",
       "    </tr>\n",
       "  </tbody>\n",
       "</table>\n",
       "</div>"
      ],
      "text/plain": [
       "                                             X_train  y_train  length\n",
       "0                             K.k:)apo k.good movie.        0      22\n",
       "1  Hey ! Don't forget ... You are MINE ... For ME...        0     113\n",
       "2  Haha... Hope ü can hear the receipt sound... G...        0      53\n",
       "3  Great. Never been better. Each day gives even ...        0      71\n",
       "4  Dear Subscriber ur draw 4 £100 gift voucher wi...        1     141"
      ]
     },
     "execution_count": 5,
     "metadata": {},
     "output_type": "execute_result"
    }
   ],
   "source": [
    "data_train_reloaded = pd.read_csv(train_file_path)\n",
    "data_train_reloaded.head()"
   ]
  },
  {
   "cell_type": "code",
   "execution_count": 6,
   "id": "028248c6",
   "metadata": {
    "scrolled": true
   },
   "outputs": [
    {
     "name": "stdout",
     "output_type": "stream",
     "text": [
      "Reinitialized existing Git repository in C:/Users/Nevetha/AML/Assignment_02/.git/\n",
      "Initialized DVC repository.\n",
      "\n",
      "You can now commit the changes to git.\n",
      "\n",
      "+---------------------------------------------------------------------+\n",
      "|                                                                     |\n",
      "|        DVC has enabled anonymous aggregate usage analytics.         |\n",
      "|     Read the analytics documentation (and how to opt-out) here:     |\n",
      "|             <https://dvc.org/doc/user-guide/analytics>              |\n",
      "|                                                                     |\n",
      "+---------------------------------------------------------------------+\n",
      "\n",
      "What's next?\n",
      "------------\n",
      "- Check out the documentation: <https://dvc.org/doc>\n",
      "- Get help and share ideas: <https://dvc.org/chat>\n",
      "- Star us on GitHub: <https://github.com/iterative/dvc>\n"
     ]
    }
   ],
   "source": [
    "#initialize git and dvc\n",
    "\n",
    "!git init\n",
    "!dvc init -f"
   ]
  },
  {
   "cell_type": "code",
   "execution_count": 7,
   "id": "6b77e5a5",
   "metadata": {},
   "outputs": [
    {
     "name": "stdout",
     "output_type": "stream",
     "text": [
      "\n",
      "To track the changes with git, run:\n",
      "\n",
      "\tgit add data.dvc\n",
      "\n",
      "To enable auto staging, run:\n",
      "\n",
      "\tdvc config core.autostage true\n",
      "[master ee2b131] started tracking data\n",
      " 1 file changed, 1 insertion(+), 1 deletion(-)\n"
     ]
    }
   ],
   "source": [
    "# commiting the changes\n",
    "\n",
    "!dvc add data\n",
    "!git add data.dvc\n",
    "!git add .gitignore\n",
    "!git commit -m \"started tracking data\""
   ]
  },
  {
   "cell_type": "code",
   "execution_count": 8,
   "id": "80cf4b4d",
   "metadata": {},
   "outputs": [
    {
     "data": {
      "text/plain": [
       "(79.99512945398615, 82.86004784688996, 80.31459330143541)"
      ]
     },
     "execution_count": 8,
     "metadata": {},
     "output_type": "execute_result"
    }
   ],
   "source": [
    "# check the data profile, seed =22\n",
    " \n",
    "df_train = pd.read_csv(train_file_path)\n",
    "df_valid = pd.read_csv(valid_file_path)\n",
    "df_test = pd.read_csv(test_file_path)\n",
    "\n",
    "df_train[\"length\"].mean(), df_valid[\"length\"].mean(), df_test[\"length\"].mean()"
   ]
  },
  {
   "cell_type": "code",
   "execution_count": 9,
   "id": "e72b5da9",
   "metadata": {},
   "outputs": [],
   "source": [
    "# changing seed=31 from seed =22\n",
    "\n",
    "data_train, data_valid, data_test = split(data, random_state=31)\n",
    " \n",
    "#Storing the data into csv files\n",
    "data_train.to_csv(train_file_path, index=False)\n",
    "data_valid.to_csv(valid_file_path, index=False)\n",
    "data_test.to_csv(test_file_path, index=False)"
   ]
  },
  {
   "cell_type": "code",
   "execution_count": 10,
   "id": "09a4fd9b",
   "metadata": {},
   "outputs": [
    {
     "name": "stdout",
     "output_type": "stream",
     "text": [
      "\n",
      "To track the changes with git, run:\n",
      "\n",
      "\tgit add data.dvc\n",
      "\n",
      "To enable auto staging, run:\n",
      "\n",
      "\tdvc config core.autostage true\n",
      "[master d062325] changed random seed to 31\n",
      " 1 file changed, 1 insertion(+), 1 deletion(-)\n"
     ]
    }
   ],
   "source": [
    "# committing the changes\n",
    "\n",
    "!dvc add data\n",
    "!git add data.dvc\n",
    "!dvc commit\n",
    "!git commit -m \"changed random seed to 31\""
   ]
  },
  {
   "cell_type": "code",
   "execution_count": 11,
   "id": "76d08650",
   "metadata": {},
   "outputs": [
    {
     "data": {
      "text/plain": [
       "(80.40169187387849, 79.13038277511961, 82.14712918660287)"
      ]
     },
     "execution_count": 11,
     "metadata": {},
     "output_type": "execute_result"
    }
   ],
   "source": [
    "# check the data profile, seed =31\n",
    "\n",
    "df_train = pd.read_csv(train_file_path)\n",
    "df_valid = pd.read_csv(valid_file_path)\n",
    "df_test = pd.read_csv(test_file_path)\n",
    "\n",
    "df_train[\"length\"].mean(), df_valid[\"length\"].mean(), df_test[\"length\"].mean()"
   ]
  },
  {
   "cell_type": "code",
   "execution_count": 16,
   "id": "7a76bea9",
   "metadata": {},
   "outputs": [
    {
     "name": "stdout",
     "output_type": "stream",
     "text": [
      "HEAD is now at ee2b131 started tracking data\n"
     ]
    }
   ],
   "source": [
    "# pointing the head to the first commit\n",
    "\n",
    "!git reset --hard ee2b131"
   ]
  },
  {
   "cell_type": "code",
   "execution_count": 17,
   "id": "c3e3a613",
   "metadata": {},
   "outputs": [
    {
     "name": "stdout",
     "output_type": "stream",
     "text": [
      "On branch master\n",
      "Untracked files:\n",
      "  (use \"git add <file>...\" to include in what will be committed)\n",
      "\t.ipynb_checkpoints/\n",
      "\tmlruns/\n",
      "\tprepare.ipynb\n",
      "\ttrain.ipynb\n",
      "\n",
      "nothing added to commit but untracked files present (use \"git add\" to track)\n"
     ]
    }
   ],
   "source": [
    "!git commit -m \"Moved the head to first version\""
   ]
  },
  {
   "cell_type": "code",
   "execution_count": 18,
   "id": "4518ea79",
   "metadata": {},
   "outputs": [
    {
     "name": "stdout",
     "output_type": "stream",
     "text": [
      "A       data\\\n"
     ]
    }
   ],
   "source": [
    "# switch to the previous version of data\n",
    "\n",
    "!dvc checkout"
   ]
  },
  {
   "cell_type": "code",
   "execution_count": 19,
   "id": "ff2a8627",
   "metadata": {},
   "outputs": [
    {
     "data": {
      "text/plain": [
       "(79.99512945398615, 82.86004784688996, 80.31459330143541)"
      ]
     },
     "execution_count": 19,
     "metadata": {},
     "output_type": "execute_result"
    }
   ],
   "source": [
    "# Checking the version of the data\n",
    "\n",
    "df_train = pd.read_csv(train_file_path)\n",
    "df_valid = pd.read_csv(valid_file_path)\n",
    "df_test = pd.read_csv(test_file_path)\n",
    "\n",
    "df_train[\"length\"].mean(), df_valid[\"length\"].mean(), df_test[\"length\"].mean()"
   ]
  },
  {
   "cell_type": "markdown",
   "id": "fcc43a15",
   "metadata": {},
   "source": [
    "By comparing the mean values of the length column of the data before and after changing seed, we can see that the changes has been committed. Once again comparing the mean value after checkout command, we can see that the previous version of the data has been restored.\n"
   ]
  }
 ],
 "metadata": {
  "@webio": {
   "lastCommId": null,
   "lastKernelId": null
  },
  "kernelspec": {
   "display_name": "Python 3 (ipykernel)",
   "language": "python",
   "name": "python3"
  },
  "language_info": {
   "codemirror_mode": {
    "name": "ipython",
    "version": 3
   },
   "file_extension": ".py",
   "mimetype": "text/x-python",
   "name": "python",
   "nbconvert_exporter": "python",
   "pygments_lexer": "ipython3",
   "version": "3.9.7"
  }
 },
 "nbformat": 4,
 "nbformat_minor": 5
}
